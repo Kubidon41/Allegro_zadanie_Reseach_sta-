{
 "cells": [
  {
   "cell_type": "markdown",
   "metadata": {
    "colab_type": "text",
    "id": "_zVfYjanWGWq"
   },
   "source": [
    "Twoim zadaniem jest wytrenowanie klasyfikatora binarnego na podzbiorze zbioru MNIST, w którym wyróżniamy klasy (cyfry 0 i 1 mają zostać wyłączone ze zbioru):\n",
    " - Liczby pierwsze (2,3,5,7)\n",
    " - Liczby złożone (4,6,8,9)\n",
    "\n",
    "Napisz wydajną implementację modelu **regresji logistycznej** trenowanego algorytmem ***SGD z momentum***. Cały proces trenowania musisz napisać samodzielnie, w języku Python, korzystając z biblioteki numpy. Na potrzeby zadania niedozwolone jest korzystanie z gotowych implementacji optimizerów i modeli oraz bibliotek do automatycznego różniczkowania funkcji (np. Tensorflow, pytorch, autograd). \n",
    "\n",
    "Dobierz hiperparametry tak, aby uzyskać jak najlepszy wynik na zbiorze walidacyjnym. \n",
    "Wyciągnij i zapisz wnioski z przeprowadzonych eksperymentów.\n",
    "\n",
    "Zbiór MNIST dostępny jest pod linkami: \n",
    "\n",
    "(zbiór treningowy):\n",
    " - http://yann.lecun.com/exdb/mnist/train-images-idx3-ubyte.gz\n",
    " - http://yann.lecun.com/exdb/mnist/train-labels-idx1-ubyte.gz\n",
    "\n",
    "(zbiór walidacyjny):\n",
    " - http://yann.lecun.com/exdb/mnist/t10k-images-idx3-ubyte.gz\n",
    " - http://yann.lecun.com/exdb/mnist/t10k-labels-idx1-ubyte.gz\n",
    "\n"
   ]
  },
  {
   "cell_type": "markdown",
   "metadata": {},
   "source": [
    "# LOADING MNIST DATA SET"
   ]
  },
  {
   "cell_type": "code",
   "execution_count": 1,
   "metadata": {
    "colab": {},
    "colab_type": "code",
    "id": "gdXcw0IZWlZ_"
   },
   "outputs": [],
   "source": [
    "import numpy as np\n",
    "import matplotlib.pyplot as plt\n",
    "import os\n",
    "from mlxtend.data import loadlocal_mnist"
   ]
  },
  {
   "cell_type": "markdown",
   "metadata": {},
   "source": [
    "To load data set I used mlxtend.data library. \n",
    "The whole training process is written with python and NumPy library only."
   ]
  },
  {
   "cell_type": "code",
   "execution_count": 3,
   "metadata": {},
   "outputs": [
    {
     "name": "stderr",
     "output_type": "stream",
     "text": [
      "  % Total    % Received % Xferd  Average Speed   Time    Time     Time  Current\n",
      "                                 Dload  Upload   Total   Spent    Left  Speed\n",
      "\n",
      "  0     0    0     0    0     0      0      0 --:--:-- --:--:-- --:--:--     0\n",
      " 10 9680k   10 1009k    0     0  1038k      0  0:00:09 --:--:--  0:00:09 1038k\n",
      "100 9680k  100 9680k    0     0  4194k      0  0:00:02  0:00:02 --:--:-- 4195k\n",
      "100 9680k  100 9680k    0     0  4194k      0  0:00:02  0:00:02 --:--:-- 4194k\n",
      "  % Total    % Received % Xferd  Average Speed   Time    Time     Time  Current\n",
      "                                 Dload  Upload   Total   Spent    Left  Speed\n",
      "\n",
      "  0     0    0     0    0     0      0      0 --:--:-- --:--:-- --:--:--     0\n",
      "100 28881  100 28881    0     0  67321      0 --:--:-- --:--:-- --:--:-- 67321\n",
      "  % Total    % Received % Xferd  Average Speed   Time    Time     Time  Current\n",
      "                                 Dload  Upload   Total   Spent    Left  Speed\n",
      "\n",
      "  0     0    0     0    0     0      0      0 --:--:-- --:--:-- --:--:--     0\n",
      " 12 1610k   12  203k    0     0   288k      0  0:00:05 --:--:--  0:00:05  288k\n",
      "100 1610k  100 1610k    0     0  1365k      0  0:00:01  0:00:01 --:--:-- 1366k\n",
      "  % Total    % Received % Xferd  Average Speed   Time    Time     Time  Current\n",
      "                                 Dload  Upload   Total   Spent    Left  Speed\n",
      "\n",
      "  0     0    0     0    0     0      0      0 --:--:-- --:--:-- --:--:--     0\n",
      "  0     0    0     0    0     0      0      0 --:--:-- --:--:-- --:--:--     0\n",
      "100  4542  100  4542    0     0  14604      0 --:--:-- --:--:-- --:--:-- 14557\n",
      "'gunzip' is not recognized as an internal or external command,\n",
      "operable program or batch file.\n"
     ]
    }
   ],
   "source": [
    "if not os.path.exists(\"train-images-idx3-ubyte\"):\n",
    "    !curl -O http://yann.lecun.com/exdb/mnist/train-images-idx3-ubyte.gz\n",
    "    !curl -O http://yann.lecun.com/exdb/mnist/train-labels-idx1-ubyte.gz\n",
    "    !curl -O http://yann.lecun.com/exdb/mnist/t10k-images-idx3-ubyte.gz\n",
    "    !curl -O http://yann.lecun.com/exdb/mnist/t10k-labels-idx1-ubyte.gz\n",
    "    !gunzip t*-ubyte.gz"
   ]
  },
  {
   "cell_type": "markdown",
   "metadata": {},
   "source": [
    "# Data Preparation"
   ]
  },
  {
   "cell_type": "markdown",
   "metadata": {},
   "source": [
    "LOADING DATA into training set and validation set"
   ]
  },
  {
   "cell_type": "code",
   "execution_count": 2,
   "metadata": {},
   "outputs": [],
   "source": [
    "X_train, y_train = loadlocal_mnist(\n",
    "        images_path='/Users/Kuban/CLOUD/PYTHON/JupyterNootbookProjects/ML/Allegro_LogReg/train-images.idx3-ubyte', \n",
    "        labels_path='/Users/Kuban/CLOUD/PYTHON/JupyterNootbookProjects/ML/Allegro_LogReg/train-labels.idx1-ubyte')"
   ]
  },
  {
   "cell_type": "code",
   "execution_count": 3,
   "metadata": {},
   "outputs": [],
   "source": [
    "X_test, y_test = loadlocal_mnist(\n",
    "        images_path='/Users/Kuban/CLOUD/PYTHON/JupyterNootbookProjects/ML/Allegro_LogReg/t10k-images.idx3-ubyte', \n",
    "        labels_path='/Users/Kuban/CLOUD/PYTHON/JupyterNootbookProjects/ML/Allegro_LogReg/t10k-labels.idx1-ubyte')"
   ]
  },
  {
   "cell_type": "markdown",
   "metadata": {},
   "source": [
    "Excluding 0 and 1 from our training and validation sets"
   ]
  },
  {
   "cell_type": "code",
   "execution_count": 47,
   "metadata": {},
   "outputs": [],
   "source": [
    "def exclude(digit, x, y):\n",
    "    idx = (y != digit).nonzero()\n",
    "    return x[idx], y[idx]"
   ]
  },
  {
   "cell_type": "code",
   "execution_count": 48,
   "metadata": {},
   "outputs": [],
   "source": [
    "X_train_no0, y_train_no0 = exclude(0, X_train, y_train)\n",
    "X_test_no0, y_test_no0 = exclude(0, X_test, y_test)\n",
    "train_images, train_labels = exclude(1, X_train_no0, y_train_no0)\n",
    "test_images, test_labels = exclude(1, X_test_no0, y_test_no0)"
   ]
  },
  {
   "cell_type": "markdown",
   "metadata": {},
   "source": [
    "Labelling data from digit to binary representation 1 - prime, 0 - odd"
   ]
  },
  {
   "cell_type": "code",
   "execution_count": 49,
   "metadata": {},
   "outputs": [],
   "source": [
    "def isPrime(n):\n",
    "    if (n==2):\n",
    "        return True;\n",
    "    else:\n",
    "        for x in range(2,n):\n",
    "            if(n % x == 0):\n",
    "                return False\n",
    "    return True             "
   ]
  },
  {
   "cell_type": "code",
   "execution_count": 51,
   "metadata": {},
   "outputs": [],
   "source": [
    "def TrainLabelling():\n",
    "    for i in range(len(train_labels)):\n",
    "        if(isPrime(train_labels[i])):\n",
    "            train_labels[i] = 1\n",
    "        else:\n",
    "            train_labels[i] = 0"
   ]
  },
  {
   "cell_type": "code",
   "execution_count": 52,
   "metadata": {},
   "outputs": [],
   "source": [
    "def TestLabelling():\n",
    "    for i in range(len(test_labels)):\n",
    "        if(isPrime(test_labels[i])):\n",
    "            test_labels[i] = 1\n",
    "        else:\n",
    "            test_labels[i] = 0"
   ]
  },
  {
   "cell_type": "code",
   "execution_count": 53,
   "metadata": {},
   "outputs": [],
   "source": [
    "TrainLabelling()\n",
    "TestLabelling()"
   ]
  },
  {
   "cell_type": "code",
   "execution_count": 54,
   "metadata": {},
   "outputs": [
    {
     "name": "stdout",
     "output_type": "stream",
     "text": [
      "Shape of train_images: (47335, 784), Dim: 2, Type: <class 'numpy.ndarray'> \n",
      "Shape of test_images: (7885, 784), Dim: 2, Type: <class 'numpy.ndarray'>\n",
      "Shape of train_labels: (47335,), Dim: 1, Type: <class 'numpy.ndarray'>\n",
      "Shape of test_labels: (7885,), Dim: 1, Type: <class 'numpy.ndarray'>\n"
     ]
    }
   ],
   "source": [
    "print('Shape of train_images: {}, Dim: {}, Type: {} '.format(train_images.shape, train_images.ndim, type(train_images)))\n",
    "print('Shape of test_images: {}, Dim: {}, Type: {}'.format(test_images.shape, test_images.ndim, type(test_images)))\n",
    "print('Shape of train_labels: {}, Dim: {}, Type: {}'.format(train_labels.shape, train_labels.ndim, type(train_labels)))\n",
    "print('Shape of test_labels: {}, Dim: {}, Type: {}'.format(test_labels.shape, test_labels.ndim, type(test_labels)))"
   ]
  },
  {
   "cell_type": "markdown",
   "metadata": {},
   "source": [
    "# RANDOM BATCH"
   ]
  },
  {
   "cell_type": "code",
   "execution_count": 563,
   "metadata": {},
   "outputs": [],
   "source": [
    "def get_random_batch(x,y,batch_size):\n",
    "    \n",
    "    num_features = 784\n",
    "    num_total = x.shape[0]\n",
    "    X = np.zeros((batch_size, num_features))\n",
    "    Y = np.zeros((batch_size, 1))\n",
    "    \n",
    "    indices = np.random.randint(0, num_total, batch_size)\n",
    "    \n",
    "    for i, index in enumerate(indices):\n",
    "        X[i] = np.reshape(x[index], (num_features, ))\n",
    "        Y[i] = np.array(y[index])\n",
    "        \n",
    "    return X,Y     "
   ]
  },
  {
   "cell_type": "code",
   "execution_count": 564,
   "metadata": {},
   "outputs": [],
   "source": [
    "def show_example(example, label, dim = (28,28)):\n",
    "    \n",
    "    example = np.squeeze(example)\n",
    "    label = np.squeeze(label)\n",
    "    if example.shape != dim:\n",
    "        example = example.reshape(dim)\n",
    "    plt.imshow(example, cmap='binary')\n",
    "    plt.xlabel('Label: ' + str(int(label)))\n",
    "    plt.xticks([])\n",
    "    plt.yticks([])\n",
    "    plt.show()"
   ]
  },
  {
   "cell_type": "code",
   "execution_count": 565,
   "metadata": {},
   "outputs": [],
   "source": [
    "def show_ten_examples(examples, labels, preds):\n",
    "    \n",
    "    plt.figure(figsize=(8,4))\n",
    "    for i in range(0,10):\n",
    "        plt.subplot(2,5,i+1)\n",
    "        plt.imshow(np.reshape(examples[i], (28,28)), cmap = 'binary')\n",
    "        plt.xticks([])\n",
    "        plt.yticks([])\n",
    "        y = int(np.squeeze(labels[i]))\n",
    "        p = int(np.squeeze(preds[i]))\n",
    "        plt.xlabel(str(p), color = 'green' if y==p else 'red')\n",
    "    plt.show()"
   ]
  },
  {
   "cell_type": "code",
   "execution_count": 566,
   "metadata": {},
   "outputs": [
    {
     "name": "stdout",
     "output_type": "stream",
     "text": [
      "X_batch shape (1, 784)\n"
     ]
    },
    {
     "data": {
      "image/png": "[encoded data removed]",
      "text/plain": [
       "<Figure size 432x288 with 1 Axes>"
      ]
     },
     "metadata": {},
     "output_type": "display_data"
    }
   ],
   "source": [
    "X_batch, Y_batch = get_random_batch(train_images, train_labels, 1)\n",
    "print('X_batch shape', X_batch.shape)\n",
    "show_example(X_batch[0], Y_batch[0])"
   ]
  },
  {
   "cell_type": "markdown",
   "metadata": {},
   "source": [
    "ABOVE A EXAMPLE OF RANDOM NUMBER FROM TRAINSET "
   ]
  },
  {
   "cell_type": "code",
   "execution_count": 567,
   "metadata": {},
   "outputs": [
    {
     "name": "stdout",
     "output_type": "stream",
     "text": [
      "X_batch shape (1, 784)\n"
     ]
    },
    {
     "data": {
      "image/png": "[encoded data removed]",
      "text/plain": [
       "<Figure size 432x288 with 1 Axes>"
      ]
     },
     "metadata": {},
     "output_type": "display_data"
    }
   ],
   "source": [
    "X_batch, Y_batch = get_random_batch(test_images, test_labels, 1)\n",
    "print('X_batch shape', X_batch.shape)\n",
    "show_example(X_batch[0], Y_batch[0])"
   ]
  },
  {
   "cell_type": "markdown",
   "metadata": {},
   "source": [
    "ABOVE A EXAMPLE OF RANDOM NUMBER FROM TESTSET"
   ]
  },
  {
   "cell_type": "markdown",
   "metadata": {},
   "source": [
    "# OUR LOGISTIC REGRESSION MODEL"
   ]
  },
  {
   "cell_type": "code",
   "execution_count": 578,
   "metadata": {},
   "outputs": [],
   "source": [
    "class Model:\n",
    "    \n",
    "    def __init__(self, num_features,  lr = 0.3, iterations = 2000, batch_size = 100, momentum = 0.9):\n",
    "        self.W = np.reshape(np.random.randn((num_features)), (num_features, 1))\n",
    "        self.b = np.zeros((1,1))\n",
    "        self.num_features = num_features\n",
    "        self.lr = lr\n",
    "        self.iterations = iterations\n",
    "        self.batch_size = batch_size\n",
    "        self.momentum = momentum\n",
    "        self.losses = []\n",
    "        self.accuracies = []\n",
    "        np.random.seed(4)\n",
    "        \n",
    "        \n",
    "    @staticmethod\n",
    "    def get_random_batch(X, Y, batch_size):\n",
    "    \n",
    "        num_features = 784\n",
    "        num_total = X.shape[0]\n",
    "        x = np.zeros((batch_size, num_features))\n",
    "        y = np.zeros((batch_size, 1))\n",
    "    \n",
    "        indices = np.random.randint(0, num_total, batch_size)\n",
    "    \n",
    "        for i, index in enumerate(indices):\n",
    "            x[i] = np.reshape(X[index], (num_features, ))\n",
    "            y[i] = np.array(Y[index])\n",
    "        \n",
    "        return x,y\n",
    "    \n",
    "    def linear(self, X: np.ndarray):\n",
    "        return np.dot(X, self.W) + self.b\n",
    "    \n",
    "    def sigmoid(self, X: np.ndarray):\n",
    "        return 1/(1 + np.exp(-X))\n",
    "        \n",
    "    def forward_pass(self, X: np.ndarray, y: np.ndarray = None):\n",
    "        batch_size = X.shape[0]\n",
    "        probs = self.sigmoid(self.linear(X))\n",
    "        return probs\n",
    "    \n",
    "    def backward_pass(self, probs, X: np.ndarray, y: np.ndarray):\n",
    "        batch_size = X.shape[0]\n",
    "        error = probs-y\n",
    "        dW = np.dot(np.transpose(X), error) / batch_size\n",
    "        db = np.sum(error) / batch_size\n",
    "        W_velocity = np.zeros(dW.shape)\n",
    "        b_velocity = np.zeros(db.shape)\n",
    "        W_velocity = self.momentum * W_velocity + self.lr * dW\n",
    "        b_velocity = self.momentum * b_velocity + self.lr * db\n",
    "        self.W -= W_velocity\n",
    "        self.b -= b_velocity\n",
    "        \n",
    "    def predict(self, X: np.ndarray) -> np.ndarray:\n",
    "        preds = self.sigmoid(self.linear(X))\n",
    "        preds = preds >= 0.5\n",
    "        return np.squeeze(preds)\n",
    "    \n",
    "    def evaluate(self, X: np.ndarray, y: np.ndarray) -> float:\n",
    "        preds = self.predict(X)\n",
    "        accuracy = np.sum(preds == np.squeeze(y)) / X.shape[0]\n",
    "        return accuracy\n",
    "    \n",
    "    def loss(self, X: np.ndarray, y: np.ndarray):\n",
    "        batch_size = X.shape[0]\n",
    "        probs = self.sigmoid(self.linear(X))\n",
    "        loss = float(1e5)\n",
    "        if Y is not None:\n",
    "            loss = -1 * np.sum(np.dot(np.transpose(Y), np.log(probs + 1e-8)) + np.matmul(np.transpose(1-Y), np.log(1-probs + 1e-8)))\n",
    "            loss /= batch_size\n",
    "        return loss\n",
    "    \n",
    "    def fit(self, X: np.ndarray, y: np.ndarray) -> None:\n",
    "        for i in range(self.iterations):\n",
    "            if (i % 100 == 0):\n",
    "                self.lr*=0.1\n",
    "            X_train, Y_train = self.get_random_batch(X, y, self.batch_size)\n",
    "            probs = self.forward_pass(X_train, Y_train) \n",
    "            self.backward_pass(probs, X_train, Y_train)\n",
    "            \n",
    "            "
   ]
  },
  {
   "cell_type": "markdown",
   "metadata": {},
   "source": [
    "# TESTING OUR MODEL"
   ]
  },
  {
   "cell_type": "code",
   "execution_count": 579,
   "metadata": {},
   "outputs": [
    {
     "name": "stdout",
     "output_type": "stream",
     "text": [
      "Before training performace, Accuracy:  0.415\n",
      "Loss:  10.737582995822413\n",
      "After training performace, Accuracy:  0.9155714285714286\n",
      "Loss:  1.5460731674700703\n"
     ]
    }
   ],
   "source": [
    "model = Model(784)\n",
    "\n",
    "X, Y = get_random_batch(test_images, test_labels, 7000)\n",
    "print('Before training performace, Accuracy: ', model.evaluate(X, Y))\n",
    "print(\"Loss: \", model.loss(X,Y))\n",
    "\n",
    "\n",
    "model.fit(train_images, train_labels)\n",
    "\n",
    "print('After training performace, Accuracy: ', model.evaluate(X, Y))\n",
    "print('Loss: ', model.loss(X,Y))"
   ]
  },
  {
   "cell_type": "markdown",
   "metadata": {},
   "source": [
    "As we can see, the accuracy is 0.915, while our hyperparameters are:\n",
    "lr = 0.3, iteratons = 2000, batch_size = 100 and momentum = 0.9\n",
    "\n",
    "In the case of iterations changes, we receive 0.91 accuracy for 1000 iterations, 0.912 for 3000 iterations. When we increase iterations to 5000 or more our result does not improve. We can notice that the best accuracy is when we have around 2000 iterations.\n",
    "\n",
    "In case of batch_size changes we receive: 0.9 accuracy when batch_size is equal 50, 0.912 for batch_size = 200.\n",
    "When we rapidly increase our batch_size for example around 1000 our accuracy is 0.9. The best result is for batch_size equal to 100.\n",
    "\n",
    "Thinking about learning_reate and momentum, we should remember, that if out momentum parameter is too high, we will not be able to receive better learning time (faster searching minimum with SGD). Learning_rate should stay 0.3 because it gives the best result."
   ]
  },
  {
   "cell_type": "code",
   "execution_count": 580,
   "metadata": {},
   "outputs": [
    {
     "data": {
      "image/png": "[encoded data removed]",
      "text/plain": [
       "<Figure size 576x288 with 10 Axes>"
      ]
     },
     "metadata": {},
     "output_type": "display_data"
    }
   ],
   "source": [
    "preds = model.predict(X)\n",
    "show_ten_examples(X, Y, preds)"
   ]
  },
  {
   "cell_type": "markdown",
   "metadata": {},
   "source": [
    "ABOVE SOME RANDOM EXAMPLES OF PREDICTIONS\n",
    "\n",
    "Under random image examples, are labels, if our model predicted correctly label is green, if incorrectly red."
   ]
  }
 ],
 "metadata": {
  "colab": {
   "name": "Research_Engineer_Warszawa_i_Kraków",
   "provenance": []
  },
  "kernelspec": {
   "display_name": "Python 3",
   "language": "python",
   "name": "python3"
  },
  "language_info": {
   "codemirror_mode": {
    "name": "ipython",
    "version": 3
   },
   "file_extension": ".py",
   "mimetype": "text/x-python",
   "name": "python",
   "nbconvert_exporter": "python",
   "pygments_lexer": "ipython3",
   "version": "3.7.4"
  }
 },
 "nbformat": 4,
 "nbformat_minor": 1
}
